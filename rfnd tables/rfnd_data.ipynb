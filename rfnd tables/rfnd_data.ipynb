{
 "cells": [
  {
   "cell_type": "markdown",
   "metadata": {
    "application/vnd.databricks.v1+cell": {
     "cellMetadata": {
      "byteLimit": 2048000,
      "implicitDf": true,
      "rowLimit": 10000
     },
     "inputWidgets": {},
     "nuid": "a033bdee-09b9-429d-a599-1753fd3e8b3b",
     "showTitle": false,
     "tableResultSettingsMap": {},
     "title": ""
    }
   },
   "source": [
    "drop database if exists rnfd_data"
   ]
  },
  {
   "cell_type": "code",
   "execution_count": 0,
   "metadata": {
    "application/vnd.databricks.v1+cell": {
     "cellMetadata": {
      "byteLimit": 2048000,
      "implicitDf": true,
      "rowLimit": 10000
     },
     "inputWidgets": {},
     "nuid": "8e8cb1ff-7074-42b7-b858-8e8ef5299e0a",
     "showTitle": false,
     "tableResultSettingsMap": {},
     "title": ""
    }
   },
   "outputs": [],
   "source": [
    "%sql\n",
    "create database if not exists rfnd_data"
   ]
  },
  {
   "cell_type": "code",
   "execution_count": 0,
   "metadata": {
    "application/vnd.databricks.v1+cell": {
     "cellMetadata": {
      "byteLimit": 2048000,
      "implicitDf": true,
      "rowLimit": 10000
     },
     "inputWidgets": {},
     "nuid": "619cbfe8-7476-4419-876a-61516794a99e",
     "showTitle": false,
     "tableResultSettingsMap": {},
     "title": ""
    }
   },
   "outputs": [],
   "source": [
    "%sql\n",
    "drop table if exists rfnd_data.mview_weekly_sales"
   ]
  },
  {
   "cell_type": "code",
   "execution_count": 0,
   "metadata": {
    "application/vnd.databricks.v1+cell": {
     "cellMetadata": {
      "byteLimit": 2048000,
      "rowLimit": 10000
     },
     "inputWidgets": {},
     "nuid": "bc42e202-c9d3-4ea5-8f67-a4a9409e787a",
     "showTitle": false,
     "tableResultSettingsMap": {},
     "title": ""
    }
   },
   "outputs": [],
   "source": [
    "from pyspark.sql.functions import sum,col,round as spark_round\n",
    "\n",
    "#----sales Fact table(processed)--------\n",
    "fact_sales = spark.read.table(\"hive_metastore.processed_data.fact_sales_performance\")\n",
    "fact_sales=fact_sales.withColumnRenamed(\"dept_label\",\"prod_type\")\n",
    "\n",
    "\n",
    "#-------Aggregate of the weekly sales data\n",
    "mview_weekly_sales = (fact_sales.groupBy(\"store_id\", \"sku_id\", \"fsclwk_id\", \"price_substate_id\",\"prod_type\",)\n",
    "                      .agg(sum(\"sales_units\").alias(\"sales_units\"),\n",
    "                           sum(\"sales_dollars\").alias(\"sales_dollars\"),\n",
    "                           sum(\"discount_dollars\").alias(\"discount_dollars\")\n",
    "                           )\n",
    "                      #roundin-off columns to 2 decimal places\n",
    "                      .withColumn(\"sales_units\", spark_round(col(\"sales_units\"), 2))\n",
    "                      .withColumn(\"sales_dollars\", spark_round(col(\"sales_dollars\"), 2))\n",
    "                      .withColumn(\"discount_dollars\", spark_round(col(\"discount_dollars\"), 2))\n",
    ")\n",
    "\n",
    "\n",
    "mview_weekly_sales.write.mode(\"overwrite\").saveAsTable(\"rfnd_data.mview_weekly_sales\")\n"
   ]
  },
  {
   "cell_type": "code",
   "execution_count": 0,
   "metadata": {
    "application/vnd.databricks.v1+cell": {
     "cellMetadata": {
      "byteLimit": 2048000,
      "implicitDf": true,
      "rowLimit": 10000
     },
     "inputWidgets": {},
     "nuid": "54dca23f-dcdb-4362-b553-f49176fa8f79",
     "showTitle": false,
     "tableResultSettingsMap": {},
     "title": ""
    }
   },
   "outputs": [],
   "source": [
    "%sql\n",
    "use catalog `hive_metastore`; select * from `rfnd_data`.`mview_weekly_sales` limit 100;"
   ]
  },
  {
   "cell_type": "code",
   "execution_count": 0,
   "metadata": {
    "application/vnd.databricks.v1+cell": {
     "cellMetadata": {
      "byteLimit": 2048000,
      "implicitDf": true,
      "rowLimit": 10000
     },
     "inputWidgets": {},
     "nuid": "2fb1bcea-ae6e-44b9-9932-0ade4bdd2b57",
     "showTitle": false,
     "tableResultSettingsMap": {},
     "title": ""
    }
   },
   "outputs": [],
   "source": [
    "%sql\n",
    "use catalog `hive_metastore`; select * from `processed_data`.`fact_sales_performance` limit 100;"
   ]
  }
 ],
 "metadata": {
  "application/vnd.databricks.v1+notebook": {
   "computePreferences": null,
   "dashboards": [],
   "environmentMetadata": {
    "base_environment": "",
    "environment_version": "2"
   },
   "language": "python",
   "notebookMetadata": {
    "mostRecentlyExecutedCommandWithImplicitDF": {
     "commandId": 3507497059829548,
     "dataframes": [
      "_sqldf"
     ]
    },
    "pythonIndentUnit": 4
   },
   "notebookName": "rfnd_data",
   "widgets": {}
  },
  "language_info": {
   "name": "python"
  }
 },
 "nbformat": 4,
 "nbformat_minor": 0
}
