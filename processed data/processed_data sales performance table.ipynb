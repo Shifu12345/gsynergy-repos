{
 "cells": [
  {
   "cell_type": "code",
   "execution_count": 0,
   "metadata": {
    "application/vnd.databricks.v1+cell": {
     "cellMetadata": {
      "byteLimit": 2048000,
      "implicitDf": true,
      "rowLimit": 10000
     },
     "inputWidgets": {},
     "nuid": "5851cf5e-c0c5-4ff1-808f-ace9cc1e961a",
     "showTitle": false,
     "tableResultSettingsMap": {},
     "title": ""
    }
   },
   "outputs": [],
   "source": [
    "%sql\n",
    "drop table if exists processed_data.fact_sales_performance;"
   ]
  },
  {
   "cell_type": "code",
   "execution_count": 0,
   "metadata": {
    "application/vnd.databricks.v1+cell": {
     "cellMetadata": {
      "byteLimit": 2048000,
      "rowLimit": 10000
     },
     "inputWidgets": {},
     "nuid": "dfc86ca9-70f7-4cee-a823-3a4d45de18c9",
     "showTitle": false,
     "tableResultSettingsMap": {},
     "title": ""
    }
   },
   "outputs": [],
   "source": [
    "from pyspark.sql import *\n",
    "from pyspark.sql.functions import *\n",
    "\n",
    "#Load required tables\n",
    "df_trans = spark.sql(\"SELECT * FROM raw_data.fact_trans\")  # Transaction Data\n",
    "df_avg_cst = spark.sql(\"SELECT * FROM raw_data.fact_avg_cst\")  # Cost Data\n",
    "df_date = spark.sql(\"SELECT * FROM processed_data.dim_date\")  # Date Table\n",
    "df_prdct = spark.sql(\"SELECT * FROM raw_data.dim_prdct\")  # Product Table\n",
    "df_pos_site = spark.sql(\"SELECT * FROM raw_data.dim_pos_site\")  # Store/Site Data\n",
    "\n",
    "#Filter and Clean Transactions\n",
    "df_trans = df_trans.select(\n",
    "    col(\"order_id\"),\n",
    "    col(\"line_id\"),\n",
    "    col(\"fscldt_id\"),\n",
    "    col(\"pos_site_id\").alias(\"store_id\"),\n",
    "    col(\"sku_id\"),\n",
    "    col('price_substate_id'),\n",
    "    col(\"sales_units\"),\n",
    "    col(\"sales_dollars\"),\n",
    "    col(\"discount_dollars\")\n",
    ")\n",
    "\n",
    "#Join with Product Table\n",
    "df_sales = df_trans.join(df_prdct.select(\"sku_id\", \"cat_id\", \"cat_label\", \"dept_id\", \"dept_label\"),\n",
    "                         on=\"sku_id\", how=\"left\")\n",
    "\n",
    "#Join with Cost Data\n",
    "df_sales = df_sales.join(df_avg_cst.select(\"sku_id\", \"fscldt_id\", \"average_unit_landedcost\"),\n",
    "                         on=[\"sku_id\", \"fscldt_id\"], how=\"left\")\n",
    "\n",
    "#Join with Date Table\n",
    "df_sales = df_sales.join(df_date.select(\"fscldt_id\", \"fsclwk_id\", \"fsclmth_id\", \"fsclqrtr_id\", \"fsclyr_id\"),\n",
    "                         on=\"fscldt_id\", how=\"left\")\n",
    "\n",
    "#Join with Store Data\n",
    "df_sales = df_sales.join(df_pos_site.select(\"site_id\", \"site_label\", \"chnl_label\"),\n",
    "                         df_sales[\"store_id\"] == df_pos_site[\"site_id\"], how=\"left\") \\\n",
    "                   .drop(\"site_id\")  # Remove duplicate column after join\n",
    "\n",
    "#Calculate Metrics\n",
    "df_sales = df_sales.withColumn(\"net_sales\", col(\"sales_dollars\") - col(\"discount_dollars\"))\n",
    "df_sales = df_sales.withColumn(\"gross_profit\", col(\"sales_dollars\") - (col(\"sales_units\") * col(\"average_unit_landedcost\")))\n",
    "df_sales = df_sales.withColumn(\"profit_margin\", round(col(\"gross_profit\") / col(\"sales_dollars\"), 2))\n",
    "\n",
    "#Assign Unique Key\n",
    "df_sales = df_sales.withColumn(\"fact_sales_id\", monotonically_increasing_id())\n",
    "\n",
    "#Write to Table\n",
    "df_sales.write.mode(\"overwrite\").saveAsTable(\"processed_data.fact_sales_performance\")\n"
   ]
  },
  {
   "cell_type": "code",
   "execution_count": 0,
   "metadata": {
    "application/vnd.databricks.v1+cell": {
     "cellMetadata": {
      "byteLimit": 2048000,
      "implicitDf": true,
      "rowLimit": 10000
     },
     "inputWidgets": {},
     "nuid": "b55bce80-b684-4d6d-870e-c871b1817a37",
     "showTitle": false,
     "tableResultSettingsMap": {},
     "title": ""
    }
   },
   "outputs": [],
   "source": [
    "%sql\n",
    "select * from processed_data.fact_sales_performance \n"
   ]
  },
  {
   "cell_type": "code",
   "execution_count": 0,
   "metadata": {
    "application/vnd.databricks.v1+cell": {
     "cellMetadata": {
      "byteLimit": 2048000,
      "implicitDf": true,
      "rowLimit": 10000
     },
     "inputWidgets": {},
     "nuid": "87aafa95-9739-44b6-943b-075fe812b19b",
     "showTitle": false,
     "tableResultSettingsMap": {},
     "title": ""
    }
   },
   "outputs": [],
   "source": [
    "%sql\n",
    "select * from processed_data.dim_date"
   ]
  }
 ],
 "metadata": {
  "application/vnd.databricks.v1+notebook": {
   "computePreferences": null,
   "dashboards": [],
   "environmentMetadata": {
    "base_environment": "",
    "environment_version": "2"
   },
   "language": "python",
   "notebookMetadata": {
    "mostRecentlyExecutedCommandWithImplicitDF": {
     "commandId": 3789665760385026,
     "dataframes": [
      "_sqldf"
     ]
    },
    "pythonIndentUnit": 4
   },
   "notebookName": "processed_data sales performance table",
   "widgets": {}
  },
  "language_info": {
   "name": "python"
  }
 },
 "nbformat": 4,
 "nbformat_minor": 0
}
