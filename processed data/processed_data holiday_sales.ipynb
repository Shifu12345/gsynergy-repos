{
 "cells": [
  {
   "cell_type": "code",
   "execution_count": 0,
   "metadata": {
    "application/vnd.databricks.v1+cell": {
     "cellMetadata": {
      "byteLimit": 2048000,
      "implicitDf": true,
      "rowLimit": 10000
     },
     "inputWidgets": {},
     "nuid": "f4797472-41b9-427b-a99d-96624ae8e674",
     "showTitle": false,
     "tableResultSettingsMap": {},
     "title": ""
    }
   },
   "outputs": [],
   "source": [
    "%sql\n",
    "drop table processed_data.fact_holiday_sales\n"
   ]
  },
  {
   "cell_type": "code",
   "execution_count": 0,
   "metadata": {
    "application/vnd.databricks.v1+cell": {
     "cellMetadata": {
      "byteLimit": 2048000,
      "rowLimit": 10000
     },
     "inputWidgets": {},
     "nuid": "3e4f0af7-1077-4e44-868b-54ae4912dfe2",
     "showTitle": false,
     "tableResultSettingsMap": {},
     "title": ""
    }
   },
   "outputs": [],
   "source": [
    "from pyspark.sql import *\n",
    "from pyspark.sql.functions import *\n",
    "\n",
    "# Load Dimension and Fact Tables\n",
    "dim_date = spark.read.table(\"processed_data.dim_date\")  # Date Dimension\n",
    "dim_holiday = spark.read.table(\"processed_data.dim_time_hldy\")  # Holiday Dimension\n",
    "fact_trans = spark.read.table(\"hive_metastore.raw_data.fact_trans\")  # Transactions Fact Table\n",
    "\n",
    "# Step 1: Map Holiday Dates with Date Dimension\n",
    "holiday_dates_df = dim_holiday.join(dim_date, dim_holiday[\"date\"] == dim_date[\"date\"], \"inner\").select(\n",
    "    dim_date[\"fscldt_id\"], dim_holiday[\"hldy_id\"]\n",
    ")\n",
    "\n",
    "# Step 2: Filter Transactions for Holiday Dates\n",
    "holiday_sales_df = (\n",
    "    fact_trans\n",
    "    .join(holiday_dates_df, \"fscldt_id\", \"inner\")  # Keep only transactions on holidays\n",
    "    .select(\n",
    "        col(\"order_id\"),  # Use order_id as primary key\n",
    "        col(\"fscldt_id\"),\n",
    "        col(\"hldy_id\"),\n",
    "        col(\"pos_site_id\").alias(\"location_id\"),\n",
    "        col(\"sku_id\").alias(\"product_id\"),\n",
    "        col(\"sales_units\").alias(\"sales_qty\"),\n",
    "        col(\"sales_dollars\").alias(\"sales_revenue\"),\n",
    "        col(\"discount_dollars\").alias(\"discount_amount\"),\n",
    "        expr(\"sales_revenue - discount_amount\").alias(\"net_sales\")\n",
    "    )\n",
    ")\n",
    "\n",
    "# Step 3: Save as Fact Table in Databricks\n",
    "holiday_sales_df.write.mode(\"overwrite\").saveAsTable(\"processed_data.fact_holiday_sales\")\n",
    "\n",
    "# Show Sample Data\n",
    "holiday_sales_df.show(10)"
   ]
  },
  {
   "cell_type": "code",
   "execution_count": 0,
   "metadata": {
    "application/vnd.databricks.v1+cell": {
     "cellMetadata": {
      "byteLimit": 2048000,
      "implicitDf": true,
      "rowLimit": 10000
     },
     "inputWidgets": {},
     "nuid": "3c3cd48f-a4c4-4688-9e8c-149fdefb495a",
     "showTitle": false,
     "tableResultSettingsMap": {},
     "title": ""
    }
   },
   "outputs": [],
   "source": [
    "%sql\n",
    "select * from processed_data.fact_holiday_sales"
   ]
  },
  {
   "cell_type": "code",
   "execution_count": 0,
   "metadata": {
    "application/vnd.databricks.v1+cell": {
     "cellMetadata": {
      "byteLimit": 2048000,
      "implicitDf": true,
      "rowLimit": 10000
     },
     "inputWidgets": {},
     "nuid": "d4d8085b-ca77-4d43-a8a2-e5336d9bcf6a",
     "showTitle": false,
     "tableResultSettingsMap": {},
     "title": ""
    }
   },
   "outputs": [],
   "source": [
    "%sql\n",
    "select * from hive_metastore.raw_data.fact_trans limit 20"
   ]
  }
 ],
 "metadata": {
  "application/vnd.databricks.v1+notebook": {
   "computePreferences": null,
   "dashboards": [],
   "environmentMetadata": {
    "base_environment": "",
    "environment_version": "2"
   },
   "language": "python",
   "notebookMetadata": {
    "mostRecentlyExecutedCommandWithImplicitDF": {
     "commandId": 890915937046996,
     "dataframes": [
      "_sqldf"
     ]
    },
    "pythonIndentUnit": 4
   },
   "notebookName": "processed_data holiday_sales",
   "widgets": {}
  },
  "language_info": {
   "name": "python"
  }
 },
 "nbformat": 4,
 "nbformat_minor": 0
}