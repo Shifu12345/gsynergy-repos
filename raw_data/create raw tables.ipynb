{
 "cells": [
  {
   "cell_type": "code",
   "execution_count": 0,
   "metadata": {
    "application/vnd.databricks.v1+cell": {
     "cellMetadata": {
      "byteLimit": 2048000,
      "rowLimit": 10000
     },
     "inputWidgets": {},
     "nuid": "6c155e73-b080-41ea-827f-e86e46900378",
     "showTitle": false,
     "tableResultSettingsMap": {},
     "title": ""
    }
   },
   "outputs": [],
   "source": [
    "display(dbutils.fs.ls(\"/mnt/gsynergymount/\"))"
   ]
  },
  {
   "cell_type": "code",
   "execution_count": 0,
   "metadata": {
    "application/vnd.databricks.v1+cell": {
     "cellMetadata": {
      "byteLimit": 2048000,
      "rowLimit": 10000
     },
     "inputWidgets": {},
     "nuid": "5884019c-87c9-4f69-bc01-5fb4480dc2b3",
     "showTitle": false,
     "tableResultSettingsMap": {},
     "title": ""
    }
   },
   "outputs": [],
   "source": [
    "def create_df(file_name):\n",
    "    name=f'df_{file_name[:-7]}'\n",
    "    name=spark.read.format(\"csv\")\\\n",
    "         .option(\"header\", \"true\")\\\n",
    "        .option(\"inferSchema\", \"true\")\\\n",
    "            .option(\"sep\",\"|\")\\\n",
    "                .load(f\"/mnt/gsynergymount/raw_data/{file_name}\")\n",
    "\n",
    "    return name"
   ]
  },
  {
   "cell_type": "code",
   "execution_count": 0,
   "metadata": {
    "application/vnd.databricks.v1+cell": {
     "cellMetadata": {
      "byteLimit": 2048000,
      "rowLimit": 10000
     },
     "inputWidgets": {},
     "nuid": "4a1517cb-c132-4fe4-9e81-d62956f9b357",
     "showTitle": false,
     "tableResultSettingsMap": {},
     "title": ""
    }
   },
   "outputs": [],
   "source": [
    "## Write to the container as parquet files\n",
    "### RAW\n",
    "\n",
    "def write_df_raw(df,name):\n",
    "    folder='/mnt/gsynergymount/raw_parquet/'\n",
    "    df.write.mode(\"overwrite\").format(\"parquet\")\\\n",
    "        .option(\"header\", \"true\")\\\n",
    "         .option(\"path\", f\"{folder}/{name}\").saveAsTable(f\"raw_data.{name}\")\n",
    "    \n",
    "    return f\"saved to {folder}/{name}\""
   ]
  },
  {
   "cell_type": "code",
   "execution_count": 0,
   "metadata": {
    "application/vnd.databricks.v1+cell": {
     "cellMetadata": {
      "byteLimit": 2048000,
      "rowLimit": 10000
     },
     "inputWidgets": {},
     "nuid": "087613ff-db32-42a8-8aa8-b35b6acbab7f",
     "showTitle": false,
     "tableResultSettingsMap": {},
     "title": ""
    }
   },
   "outputs": [],
   "source": [
    "df_dim_date=create_df(\"hier.clnd.dlm.gz\")\n",
    "df_fact_avg_cst=create_df(\"fact.averagecosts.dlm.gz\")\n",
    "df_fact_trans=create_df(\"fact.transactions.dlm.gz\")\n",
    "df_dim_hldy=create_df(\"hier.hldy.dlm.gz\")\n",
    "df_dim_inv_loc=create_df(\"hier.invloc.dlm.gz\")\n",
    "df_dim_inv_status=create_df(\"hier.invstatus.dlm.gz\")\n",
    "df_dim_pos_site=create_df(\"hier.possite.dlm.gz\")\n",
    "df_dim_prc_state=create_df(\"hier.pricestate.dlm.gz\")\n",
    "df_dim_prdct=create_df(\"hier.prod.dlm.gz\")\n",
    "df_dim_rtl_loc=create_df(\"hier.rtlloc.dlm.gz\")"
   ]
  },
  {
   "cell_type": "code",
   "execution_count": 0,
   "metadata": {
    "application/vnd.databricks.v1+cell": {
     "cellMetadata": {
      "byteLimit": 2048000,
      "implicitDf": true,
      "rowLimit": 10000
     },
     "inputWidgets": {},
     "nuid": "e5cb2f41-9f5e-4a74-a6ad-c56ff7134a3b",
     "showTitle": false,
     "tableResultSettingsMap": {},
     "title": ""
    }
   },
   "outputs": [],
   "source": [
    "%sql\n",
    "create database if not exists raw_data"
   ]
  },
  {
   "cell_type": "code",
   "execution_count": 0,
   "metadata": {
    "application/vnd.databricks.v1+cell": {
     "cellMetadata": {
      "byteLimit": 2048000,
      "rowLimit": 10000
     },
     "inputWidgets": {},
     "nuid": "b5ab697f-5388-4d2a-bbb1-385c2def3141",
     "showTitle": false,
     "tableResultSettingsMap": {},
     "title": ""
    }
   },
   "outputs": [],
   "source": [
    "write_df_raw(df_dim_date,\"dim_date\")\n",
    "write_df_raw(df_fact_avg_cst,\"fact_avg_cst\")\n",
    "write_df_raw(df_fact_trans,\"fact_trans\")\n",
    "write_df_raw(df_dim_hldy,\"dim_hldy\")\n",
    "write_df_raw(df_dim_inv_loc,\"dim_inv_loc\")\n",
    "write_df_raw(df_dim_inv_status,\"dim_inv_status\")\n",
    "write_df_raw(df_dim_pos_site,\"dim_pos_site\")\n",
    "write_df_raw(df_dim_prc_state,\"dim_prc_state\")\n",
    "write_df_raw(df_dim_prdct,\"dim_prdct\")\n",
    "write_df_raw(df_dim_rtl_loc,\"dim_rtl_loc\")"
   ]
  },
  {
   "cell_type": "code",
   "execution_count": 0,
   "metadata": {
    "application/vnd.databricks.v1+cell": {
     "cellMetadata": {
      "byteLimit": 2048000,
      "rowLimit": 10000
     },
     "inputWidgets": {},
     "nuid": "b7f87ed4-beac-4429-a4ed-7df0bd4b7178",
     "showTitle": false,
     "tableResultSettingsMap": {},
     "title": ""
    }
   },
   "outputs": [],
   "source": [
    "dfs = [df_dim_date, df_fact_avg_cst, df_fact_trans, df_dim_hldy, df_dim_inv_loc, df_dim_inv_status, df_dim_pos_site, df_dim_prc_state, df_dim_prdct, df_dim_rtl_loc]\n",
    "df_names = [\"df_dim_date\", \"df_fact_avg_cst\", \"df_fact_trans\", \"df_dim_hldy\", \"df_dim_inv_loc\", \"df_dim_inv_status\", \"df_dim_pos_site\", \"df_dim_prc_state\", \"df_dim_prdct\", \"df_dim_rtl_loc\"]\n",
    "\n",
    "df_columns_dict = {name: df.columns for name, df in zip(df_names, dfs)}\n",
    "df_columns_dict"
   ]
  },
  {
   "cell_type": "code",
   "execution_count": 0,
   "metadata": {
    "application/vnd.databricks.v1+cell": {
     "cellMetadata": {
      "byteLimit": 2048000,
      "implicitDf": true,
      "rowLimit": 10000
     },
     "inputWidgets": {},
     "nuid": "902c0670-d55a-46c2-a3a6-852899ab3129",
     "showTitle": false,
     "tableResultSettingsMap": {},
     "title": ""
    }
   },
   "outputs": [],
   "source": [
    "%sql\n",
    "show tables in raw_data"
   ]
  },
  {
   "cell_type": "code",
   "execution_count": 0,
   "metadata": {
    "application/vnd.databricks.v1+cell": {
     "cellMetadata": {
      "byteLimit": 2048000,
      "implicitDf": true,
      "rowLimit": 10000
     },
     "inputWidgets": {},
     "nuid": "27b0f915-5ea0-45e6-a7ab-4a0c825c0dcf",
     "showTitle": false,
     "tableResultSettingsMap": {},
     "title": ""
    }
   },
   "outputs": [],
   "source": [
    "%sql\n",
    "select * from raw_data.dim_hldy limit 50"
   ]
  }
 ],
 "metadata": {
  "application/vnd.databricks.v1+notebook": {
   "computePreferences": null,
   "dashboards": [],
   "environmentMetadata": {
    "base_environment": "",
    "environment_version": "2"
   },
   "language": "python",
   "notebookMetadata": {
    "mostRecentlyExecutedCommandWithImplicitDF": {
     "commandId": 2855883557598514,
     "dataframes": [
      "_sqldf"
     ]
    },
    "pythonIndentUnit": 4
   },
   "notebookName": "create raw tables",
   "widgets": {}
  },
  "language_info": {
   "name": "python"
  }
 },
 "nbformat": 4,
 "nbformat_minor": 0
}
