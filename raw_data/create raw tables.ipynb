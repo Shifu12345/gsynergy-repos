{
 "cells": [
  {
   "cell_type": "code",
   "execution_count": 0,
   "metadata": {
    "application/vnd.databricks.v1+cell": {
     "cellMetadata": {
      "byteLimit": 2048000,
      "rowLimit": 10000
     },
     "inputWidgets": {},
     "nuid": "6c155e73-b080-41ea-827f-e86e46900378",
     "showTitle": false,
     "tableResultSettingsMap": {},
     "title": ""
    }
   },
   "outputs": [
    {
     "output_type": "display_data",
     "data": {
      "text/html": [
       "<style scoped>\n",
       "  .table-result-container {\n",
       "    max-height: 300px;\n",
       "    overflow: auto;\n",
       "  }\n",
       "  table, th, td {\n",
       "    border: 1px solid black;\n",
       "    border-collapse: collapse;\n",
       "  }\n",
       "  th, td {\n",
       "    padding: 5px;\n",
       "  }\n",
       "  th {\n",
       "    text-align: left;\n",
       "  }\n",
       "</style><div class='table-result-container'><table class='table-result'><thead style='background-color: white'><tr><th>path</th><th>name</th><th>size</th><th>modificationTime</th></tr></thead><tbody><tr><td>dbfs:/mnt/gsynergymount/raw_data/</td><td>raw_data/</td><td>0</td><td>0</td></tr><tr><td>dbfs:/mnt/gsynergymount/raw_parquet/</td><td>raw_parquet/</td><td>0</td><td>0</td></tr></tbody></table></div>"
      ]
     },
     "metadata": {
      "application/vnd.databricks.v1+output": {
       "addedWidgets": {},
       "aggData": [],
       "aggError": "",
       "aggOverflow": false,
       "aggSchema": [],
       "aggSeriesLimitReached": false,
       "aggType": "",
       "arguments": {},
       "columnCustomDisplayInfos": {},
       "data": [
        [
         "dbfs:/mnt/gsynergymount/raw_data/",
         "raw_data/",
         0,
         0
        ],
        [
         "dbfs:/mnt/gsynergymount/raw_parquet/",
         "raw_parquet/",
         0,
         0
        ]
       ],
       "datasetInfos": [],
       "dbfsResultPath": null,
       "isJsonSchema": true,
       "metadata": {},
       "overflow": false,
       "plotOptions": {
        "customPlotOptions": {},
        "displayType": "table",
        "pivotAggregation": null,
        "pivotColumns": null,
        "xColumns": null,
        "yColumns": null
       },
       "removedWidgets": [],
       "schema": [
        {
         "metadata": "{}",
         "name": "path",
         "type": "\"string\""
        },
        {
         "metadata": "{}",
         "name": "name",
         "type": "\"string\""
        },
        {
         "metadata": "{}",
         "name": "size",
         "type": "\"long\""
        },
        {
         "metadata": "{}",
         "name": "modificationTime",
         "type": "\"long\""
        }
       ],
       "type": "table"
      }
     },
     "output_type": "display_data"
    }
   ],
   "source": [
    "display(dbutils.fs.ls(\"/mnt/gsynergymount/\"))"
   ]
  },
  {
   "cell_type": "code",
   "execution_count": 0,
   "metadata": {
    "application/vnd.databricks.v1+cell": {
     "cellMetadata": {
      "byteLimit": 2048000,
      "rowLimit": 10000
     },
     "inputWidgets": {},
     "nuid": "5884019c-87c9-4f69-bc01-5fb4480dc2b3",
     "showTitle": false,
     "tableResultSettingsMap": {},
     "title": ""
    }
   },
   "outputs": [],
   "source": [
    "def create_df(file_name):\n",
    "    name=f'df_{file_name[:-7]}'\n",
    "    name=spark.read.format(\"csv\")\\\n",
    "         .option(\"header\", \"true\")\\\n",
    "        .option(\"inferSchema\", \"true\")\\\n",
    "            .option(\"sep\",\"|\")\\\n",
    "                .load(f\"/mnt/gsynergymount/raw_data/{file_name}\")\n",
    "\n",
    "    return name"
   ]
  },
  {
   "cell_type": "code",
   "execution_count": 0,
   "metadata": {
    "application/vnd.databricks.v1+cell": {
     "cellMetadata": {
      "byteLimit": 2048000,
      "rowLimit": 10000
     },
     "inputWidgets": {},
     "nuid": "4a1517cb-c132-4fe4-9e81-d62956f9b357",
     "showTitle": false,
     "tableResultSettingsMap": {},
     "title": ""
    }
   },
   "outputs": [],
   "source": [
    "## Write to the container as parquet files\n",
    "### RAW\n",
    "\n",
    "def write_df_raw(df,name):\n",
    "    folder='/mnt/gsynergymount/raw_parquet/'\n",
    "    df.write.mode(\"overwrite\").format(\"parquet\")\\\n",
    "        .option(\"header\", \"true\")\\\n",
    "         .option(\"path\", f\"{folder}/{name}\").saveAsTable(f\"raw_data.{name}\")\n",
    "    \n",
    "    return f\"saved to {folder}/{name}\""
   ]
  },
  {
   "cell_type": "code",
   "execution_count": 0,
   "metadata": {
    "application/vnd.databricks.v1+cell": {
     "cellMetadata": {
      "byteLimit": 2048000,
      "rowLimit": 10000
     },
     "inputWidgets": {},
     "nuid": "087613ff-db32-42a8-8aa8-b35b6acbab7f",
     "showTitle": false,
     "tableResultSettingsMap": {},
     "title": ""
    }
   },
   "outputs": [],
   "source": [
    "df_dim_date=create_df(\"hier.clnd.dlm.gz\")\n",
    "df_fact_avg_cst=create_df(\"fact.averagecosts.dlm.gz\")\n",
    "df_fact_trans=create_df(\"fact.transactions.dlm.gz\")\n",
    "df_dim_hldy=create_df(\"hier.hldy.dlm.gz\")\n",
    "df_dim_inv_loc=create_df(\"hier.invloc.dlm.gz\")\n",
    "df_dim_inv_status=create_df(\"hier.invstatus.dlm.gz\")\n",
    "df_dim_pos_site=create_df(\"hier.possite.dlm.gz\")\n",
    "df_dim_prc_state=create_df(\"hier.pricestate.dlm.gz\")\n",
    "df_dim_prdct=create_df(\"hier.prod.dlm.gz\")\n",
    "df_dim_rtl_loc=create_df(\"hier.rtlloc.dlm.gz\")"
   ]
  },
  {
   "cell_type": "code",
   "execution_count": 0,
   "metadata": {
    "application/vnd.databricks.v1+cell": {
     "cellMetadata": {
      "byteLimit": 2048000,
      "implicitDf": true,
      "rowLimit": 10000
     },
     "inputWidgets": {},
     "nuid": "e5cb2f41-9f5e-4a74-a6ad-c56ff7134a3b",
     "showTitle": false,
     "tableResultSettingsMap": {},
     "title": ""
    }
   },
   "outputs": [
    {
     "output_type": "display_data",
     "data": {
      "text/html": [
       "<style scoped>\n",
       "  .table-result-container {\n",
       "    max-height: 300px;\n",
       "    overflow: auto;\n",
       "  }\n",
       "  table, th, td {\n",
       "    border: 1px solid black;\n",
       "    border-collapse: collapse;\n",
       "  }\n",
       "  th, td {\n",
       "    padding: 5px;\n",
       "  }\n",
       "  th {\n",
       "    text-align: left;\n",
       "  }\n",
       "</style><div class='table-result-container'><table class='table-result'><thead style='background-color: white'><tr></tr></thead><tbody></tbody></table></div>"
      ]
     },
     "metadata": {
      "application/vnd.databricks.v1+output": {
       "addedWidgets": {},
       "aggData": [],
       "aggError": "",
       "aggOverflow": false,
       "aggSchema": [],
       "aggSeriesLimitReached": false,
       "aggType": "",
       "arguments": {},
       "columnCustomDisplayInfos": {},
       "data": [],
       "datasetInfos": [],
       "dbfsResultPath": null,
       "isJsonSchema": true,
       "metadata": {
        "dataframeName": null
       },
       "overflow": false,
       "plotOptions": {
        "customPlotOptions": {},
        "displayType": "table",
        "pivotAggregation": null,
        "pivotColumns": null,
        "xColumns": null,
        "yColumns": null
       },
       "removedWidgets": [],
       "schema": [],
       "type": "table"
      }
     },
     "output_type": "display_data"
    }
   ],
   "source": [
    "%sql\n",
    "create database if not exists raw_data"
   ]
  },
  {
   "cell_type": "code",
   "execution_count": 0,
   "metadata": {
    "application/vnd.databricks.v1+cell": {
     "cellMetadata": {
      "byteLimit": 2048000,
      "rowLimit": 10000
     },
     "inputWidgets": {},
     "nuid": "b5ab697f-5388-4d2a-bbb1-385c2def3141",
     "showTitle": false,
     "tableResultSettingsMap": {},
     "title": ""
    }
   },
   "outputs": [
    {
     "output_type": "execute_result",
     "data": {
      "text/plain": [
       "'saved to /mnt/gsynergymount/raw_parquet//dim_rtl_loc'"
      ]
     },
     "execution_count": 63,
     "metadata": {},
     "output_type": "execute_result"
    }
   ],
   "source": [
    "write_df_raw(df_dim_date,\"dim_date\")\n",
    "write_df_raw(df_fact_avg_cst,\"fact_avg_cst\")\n",
    "write_df_raw(df_fact_trans,\"fact_trans\")\n",
    "write_df_raw(df_dim_hldy,\"dim_hldy\")\n",
    "write_df_raw(df_dim_inv_loc,\"dim_inv_loc\")\n",
    "write_df_raw(df_dim_inv_status,\"dim_inv_status\")\n",
    "write_df_raw(df_dim_pos_site,\"dim_pos_site\")\n",
    "write_df_raw(df_dim_prc_state,\"dim_prc_state\")\n",
    "write_df_raw(df_dim_prdct,\"dim_prdct\")\n",
    "write_df_raw(df_dim_rtl_loc,\"dim_rtl_loc\")"
   ]
  },
  {
   "cell_type": "code",
   "execution_count": 0,
   "metadata": {
    "application/vnd.databricks.v1+cell": {
     "cellMetadata": {
      "byteLimit": 2048000,
      "rowLimit": 10000
     },
     "inputWidgets": {},
     "nuid": "b7f87ed4-beac-4429-a4ed-7df0bd4b7178",
     "showTitle": false,
     "tableResultSettingsMap": {},
     "title": ""
    }
   },
   "outputs": [
    {
     "output_type": "execute_result",
     "data": {
      "text/plain": [
       "{'df_dim_date': ['fscldt_id',\n",
       "  'fscldt_label',\n",
       "  'fsclwk_id',\n",
       "  'fsclwk_label',\n",
       "  'fsclmth_id',\n",
       "  'fsclmth_label',\n",
       "  'fsclqrtr_id',\n",
       "  'fsclqrtr_label',\n",
       "  'fsclyr_id',\n",
       "  'fsclyr_label',\n",
       "  'ssn_id',\n",
       "  'ssn_label',\n",
       "  'ly_fscldt_id',\n",
       "  'lly_fscldt_id',\n",
       "  'fscldow',\n",
       "  'fscldom',\n",
       "  'fscldoq',\n",
       "  'fscldoy',\n",
       "  'fsclwoy',\n",
       "  'fsclmoy',\n",
       "  'fsclqoy',\n",
       "  'date'],\n",
       " 'df_fact_avg_cst': ['fscldt_id',\n",
       "  'sku_id',\n",
       "  'average_unit_standardcost',\n",
       "  'average_unit_landedcost'],\n",
       " 'df_fact_trans': ['order_id',\n",
       "  'line_id',\n",
       "  'type',\n",
       "  'dt',\n",
       "  'pos_site_id',\n",
       "  'sku_id',\n",
       "  'fscldt_id',\n",
       "  'price_substate_id',\n",
       "  'sales_units',\n",
       "  'sales_dollars',\n",
       "  'discount_dollars',\n",
       "  'original_order_id',\n",
       "  'original_line_id'],\n",
       " 'df_dim_hldy': ['hldy_id', 'hldy_label'],\n",
       " 'df_dim_inv_loc': ['loc', 'loc_label', 'loctype', 'loctype_label'],\n",
       " 'df_dim_inv_status': ['code_id',\n",
       "  'code_label',\n",
       "  'bckt_id',\n",
       "  'bckt_label',\n",
       "  'ownrshp_id',\n",
       "  'ownrshp_label'],\n",
       " 'df_dim_pos_site': ['site_id',\n",
       "  'site_label',\n",
       "  'subchnl_id',\n",
       "  'subchnl_label',\n",
       "  'chnl_id',\n",
       "  'chnl_label'],\n",
       " 'df_dim_prc_state': ['substate_id',\n",
       "  'substate_label',\n",
       "  'state_id',\n",
       "  'state_label'],\n",
       " 'df_dim_prdct': ['sku_id',\n",
       "  'sku_label',\n",
       "  'stylclr_id',\n",
       "  'stylclr_label',\n",
       "  'styl_id',\n",
       "  'styl_label',\n",
       "  'subcat_id',\n",
       "  'subcat_label',\n",
       "  'cat_id',\n",
       "  'cat_label',\n",
       "  'dept_id',\n",
       "  'dept_label',\n",
       "  'issvc',\n",
       "  'isasmbly',\n",
       "  'isnfs'],\n",
       " 'df_dim_rtl_loc': ['str',\n",
       "  'str_label',\n",
       "  'dstr',\n",
       "  'dstr_label',\n",
       "  'rgn',\n",
       "  'rgn_label']}"
      ]
     },
     "execution_count": 74,
     "metadata": {},
     "output_type": "execute_result"
    }
   ],
   "source": [
    "dfs = [df_dim_date, df_fact_avg_cst, df_fact_trans, df_dim_hldy, df_dim_inv_loc, df_dim_inv_status, df_dim_pos_site, df_dim_prc_state, df_dim_prdct, df_dim_rtl_loc]\n",
    "df_names = [\"df_dim_date\", \"df_fact_avg_cst\", \"df_fact_trans\", \"df_dim_hldy\", \"df_dim_inv_loc\", \"df_dim_inv_status\", \"df_dim_pos_site\", \"df_dim_prc_state\", \"df_dim_prdct\", \"df_dim_rtl_loc\"]\n",
    "\n",
    "df_columns_dict = {name: df.columns for name, df in zip(df_names, dfs)}\n",
    "df_columns_dict"
   ]
  },
  {
   "cell_type": "code",
   "execution_count": 0,
   "metadata": {
    "application/vnd.databricks.v1+cell": {
     "cellMetadata": {
      "byteLimit": 2048000,
      "implicitDf": true,
      "rowLimit": 10000
     },
     "inputWidgets": {},
     "nuid": "902c0670-d55a-46c2-a3a6-852899ab3129",
     "showTitle": false,
     "tableResultSettingsMap": {},
     "title": ""
    }
   },
   "outputs": [
    {
     "output_type": "display_data",
     "data": {
      "text/html": [
       "<style scoped>\n",
       "  .table-result-container {\n",
       "    max-height: 300px;\n",
       "    overflow: auto;\n",
       "  }\n",
       "  table, th, td {\n",
       "    border: 1px solid black;\n",
       "    border-collapse: collapse;\n",
       "  }\n",
       "  th, td {\n",
       "    padding: 5px;\n",
       "  }\n",
       "  th {\n",
       "    text-align: left;\n",
       "  }\n",
       "</style><div class='table-result-container'><table class='table-result'><thead style='background-color: white'><tr><th>database</th><th>tableName</th><th>isTemporary</th></tr></thead><tbody><tr><td>raw_data</td><td>dim_date</td><td>false</td></tr><tr><td>raw_data</td><td>dim_hldy</td><td>false</td></tr><tr><td>raw_data</td><td>dim_inv_loc</td><td>false</td></tr><tr><td>raw_data</td><td>dim_inv_status</td><td>false</td></tr><tr><td>raw_data</td><td>dim_pos_site</td><td>false</td></tr><tr><td>raw_data</td><td>dim_prc_state</td><td>false</td></tr><tr><td>raw_data</td><td>dim_prdct</td><td>false</td></tr><tr><td>raw_data</td><td>dim_rtl_loc</td><td>false</td></tr><tr><td>raw_data</td><td>fact_avg_cst</td><td>false</td></tr><tr><td>raw_data</td><td>fact_trans</td><td>false</td></tr><tr><td></td><td>_sqldf</td><td>true</td></tr></tbody></table></div>"
      ]
     },
     "metadata": {
      "application/vnd.databricks.v1+output": {
       "addedWidgets": {},
       "aggData": [],
       "aggError": "",
       "aggOverflow": false,
       "aggSchema": [],
       "aggSeriesLimitReached": false,
       "aggType": "",
       "arguments": {},
       "columnCustomDisplayInfos": {},
       "data": [
        [
         "raw_data",
         "dim_date",
         false
        ],
        [
         "raw_data",
         "dim_hldy",
         false
        ],
        [
         "raw_data",
         "dim_inv_loc",
         false
        ],
        [
         "raw_data",
         "dim_inv_status",
         false
        ],
        [
         "raw_data",
         "dim_pos_site",
         false
        ],
        [
         "raw_data",
         "dim_prc_state",
         false
        ],
        [
         "raw_data",
         "dim_prdct",
         false
        ],
        [
         "raw_data",
         "dim_rtl_loc",
         false
        ],
        [
         "raw_data",
         "fact_avg_cst",
         false
        ],
        [
         "raw_data",
         "fact_trans",
         false
        ],
        [
         "",
         "_sqldf",
         true
        ]
       ],
       "datasetInfos": [],
       "dbfsResultPath": null,
       "isJsonSchema": true,
       "metadata": {
        "createTempViewForImplicitDf": true,
        "dataframeName": "_sqldf",
        "executionCount": 64
       },
       "overflow": false,
       "plotOptions": {
        "customPlotOptions": {},
        "displayType": "table",
        "pivotAggregation": null,
        "pivotColumns": null,
        "xColumns": null,
        "yColumns": null
       },
       "removedWidgets": [],
       "schema": [
        {
         "metadata": "{}",
         "name": "database",
         "type": "\"string\""
        },
        {
         "metadata": "{}",
         "name": "tableName",
         "type": "\"string\""
        },
        {
         "metadata": "{}",
         "name": "isTemporary",
         "type": "\"boolean\""
        }
       ],
       "type": "table"
      }
     },
     "output_type": "display_data"
    }
   ],
   "source": [
    "%sql\n",
    "show tables in raw_data"
   ]
  },
  {
   "cell_type": "code",
   "execution_count": 0,
   "metadata": {
    "application/vnd.databricks.v1+cell": {
     "cellMetadata": {
      "byteLimit": 2048000,
      "implicitDf": true,
      "rowLimit": 10000
     },
     "inputWidgets": {},
     "nuid": "27b0f915-5ea0-45e6-a7ab-4a0c825c0dcf",
     "showTitle": false,
     "tableResultSettingsMap": {},
     "title": ""
    }
   },
   "outputs": [
    {
     "output_type": "display_data",
     "data": {
      "text/html": [
       "<style scoped>\n",
       "  .table-result-container {\n",
       "    max-height: 300px;\n",
       "    overflow: auto;\n",
       "  }\n",
       "  table, th, td {\n",
       "    border: 1px solid black;\n",
       "    border-collapse: collapse;\n",
       "  }\n",
       "  th, td {\n",
       "    padding: 5px;\n",
       "  }\n",
       "  th {\n",
       "    text-align: left;\n",
       "  }\n",
       "</style><div class='table-result-container'><table class='table-result'><thead style='background-color: white'><tr><th>hldy_id</th><th>hldy_label</th></tr></thead><tbody><tr><td>Valentines_Day</td><td>Valentine's Day</td></tr><tr><td>Presidents_Day</td><td>Presidents Day</td></tr><tr><td>St_Patricks_Day</td><td>St. Patrick's Day</td></tr><tr><td>Easter</td><td>Easter</td></tr><tr><td>Mothers_Day</td><td>Mother's Day</td></tr><tr><td>Memorial_Day</td><td>Memorial Day</td></tr><tr><td>Fathers_Day</td><td>Father's Day</td></tr><tr><td>Independence_Day</td><td>Independence Day</td></tr><tr><td>Labor_Day</td><td>Labor Day</td></tr><tr><td>Rosh_Hashanah</td><td>Rosh Hashanah</td></tr><tr><td>Yom_Kippur</td><td>Yom Kippur</td></tr><tr><td>Columbus_Day</td><td>Columbus Day</td></tr><tr><td>Halloween</td><td>Halloween</td></tr><tr><td>Election_Day</td><td>Election Day</td></tr><tr><td>Veterans_Day</td><td>Veterans Day</td></tr><tr><td>Thanksgiving</td><td>Thanksgiving</td></tr><tr><td>Christmas</td><td>Christmas</td></tr><tr><td>New_Years_Day</td><td>New Year's Day</td></tr><tr><td>Martin_Luther_King_Day</td><td>Martin Luther King Day</td></tr></tbody></table></div>"
      ]
     },
     "metadata": {
      "application/vnd.databricks.v1+output": {
       "addedWidgets": {},
       "aggData": [],
       "aggError": "",
       "aggOverflow": false,
       "aggSchema": [],
       "aggSeriesLimitReached": false,
       "aggType": "",
       "arguments": {},
       "columnCustomDisplayInfos": {},
       "data": [
        [
         "Valentines_Day",
         "Valentine's Day"
        ],
        [
         "Presidents_Day",
         "Presidents Day"
        ],
        [
         "St_Patricks_Day",
         "St. Patrick's Day"
        ],
        [
         "Easter",
         "Easter"
        ],
        [
         "Mothers_Day",
         "Mother's Day"
        ],
        [
         "Memorial_Day",
         "Memorial Day"
        ],
        [
         "Fathers_Day",
         "Father's Day"
        ],
        [
         "Independence_Day",
         "Independence Day"
        ],
        [
         "Labor_Day",
         "Labor Day"
        ],
        [
         "Rosh_Hashanah",
         "Rosh Hashanah"
        ],
        [
         "Yom_Kippur",
         "Yom Kippur"
        ],
        [
         "Columbus_Day",
         "Columbus Day"
        ],
        [
         "Halloween",
         "Halloween"
        ],
        [
         "Election_Day",
         "Election Day"
        ],
        [
         "Veterans_Day",
         "Veterans Day"
        ],
        [
         "Thanksgiving",
         "Thanksgiving"
        ],
        [
         "Christmas",
         "Christmas"
        ],
        [
         "New_Years_Day",
         "New Year's Day"
        ],
        [
         "Martin_Luther_King_Day",
         "Martin Luther King Day"
        ]
       ],
       "datasetInfos": [],
       "dbfsResultPath": null,
       "isJsonSchema": true,
       "metadata": {
        "createTempViewForImplicitDf": true,
        "dataframeName": "_sqldf",
        "executionCount": 69
       },
       "overflow": false,
       "plotOptions": {
        "customPlotOptions": {},
        "displayType": "table",
        "pivotAggregation": null,
        "pivotColumns": null,
        "xColumns": null,
        "yColumns": null
       },
       "removedWidgets": [],
       "schema": [
        {
         "metadata": "{}",
         "name": "hldy_id",
         "type": "\"string\""
        },
        {
         "metadata": "{}",
         "name": "hldy_label",
         "type": "\"string\""
        }
       ],
       "type": "table"
      }
     },
     "output_type": "display_data"
    }
   ],
   "source": [
    "%sql\n",
    "select * from raw_data.dim_hldy limit 50"
   ]
  }
 ],
 "metadata": {
  "application/vnd.databricks.v1+notebook": {
   "computePreferences": null,
   "dashboards": [],
   "environmentMetadata": {
    "base_environment": "",
    "environment_version": "2"
   },
   "language": "python",
   "notebookMetadata": {
    "mostRecentlyExecutedCommandWithImplicitDF": {
     "commandId": 2855883557598514,
     "dataframes": [
      "_sqldf"
     ]
    },
    "pythonIndentUnit": 4
   },
   "notebookName": "create raw tables",
   "widgets": {}
  },
  "language_info": {
   "name": "python"
  }
 },
 "nbformat": 4,
 "nbformat_minor": 0
}