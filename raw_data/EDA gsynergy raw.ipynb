{
 "cells": [
  {
   "cell_type": "code",
   "execution_count": 0,
   "metadata": {
    "application/vnd.databricks.v1+cell": {
     "cellMetadata": {
      "byteLimit": 2048000,
      "rowLimit": 10000
     },
     "inputWidgets": {},
     "nuid": "eaabbc3e-3587-4d99-a6f8-d99e62e326d4",
     "showTitle": false,
     "tableResultSettingsMap": {},
     "title": ""
    }
   },
   "outputs": [
    {
     "output_type": "stream",
     "name": "stdout",
     "output_type": "stream",
     "text": [
      "+--------------------+--------------------+\n|             hldy_id|          hldy_label|\n+--------------------+--------------------+\n|      Valentines_Day|     Valentine's Day|\n|      Presidents_Day|      Presidents Day|\n|     St_Patricks_Day|   St. Patrick's Day|\n|              Easter|              Easter|\n|         Mothers_Day|        Mother's Day|\n|        Memorial_Day|        Memorial Day|\n|         Fathers_Day|        Father's Day|\n|    Independence_Day|    Independence Day|\n|           Labor_Day|           Labor Day|\n|       Rosh_Hashanah|       Rosh Hashanah|\n|          Yom_Kippur|          Yom Kippur|\n|        Columbus_Day|        Columbus Day|\n|           Halloween|           Halloween|\n|        Election_Day|        Election Day|\n|        Veterans_Day|        Veterans Day|\n|        Thanksgiving|        Thanksgiving|\n|           Christmas|           Christmas|\n|       New_Years_Day|      New Year's Day|\n|Martin_Luther_Kin...|Martin Luther Kin...|\n+--------------------+--------------------+\n\n"
     ]
    }
   ],
   "source": [
    "spark.sql('select * from raw_data.dim_hldy').show()\n"
   ]
  },
  {
   "cell_type": "code",
   "execution_count": 0,
   "metadata": {
    "application/vnd.databricks.v1+cell": {
     "cellMetadata": {
      "byteLimit": 2048000,
      "implicitDf": true,
      "rowLimit": 10000
     },
     "inputWidgets": {},
     "nuid": "92390951-05cc-424b-aa9e-8ab50b6c0695",
     "showTitle": false,
     "tableResultSettingsMap": {},
     "title": ""
    }
   },
   "outputs": [
    {
     "output_type": "display_data",
     "data": {
      "text/html": [
       "<style scoped>\n",
       "  .table-result-container {\n",
       "    max-height: 300px;\n",
       "    overflow: auto;\n",
       "  }\n",
       "  table, th, td {\n",
       "    border: 1px solid black;\n",
       "    border-collapse: collapse;\n",
       "  }\n",
       "  th, td {\n",
       "    padding: 5px;\n",
       "  }\n",
       "  th {\n",
       "    text-align: left;\n",
       "  }\n",
       "</style><div class='table-result-container'><table class='table-result'><thead style='background-color: white'><tr><th>fscldt_id</th><th>fscldt_label</th><th>fsclwk_id</th><th>fsclwk_label</th><th>fsclmth_id</th><th>fsclmth_label</th><th>fsclqrtr_id</th><th>fsclqrtr_label</th><th>fsclyr_id</th><th>fsclyr_label</th><th>ssn_id</th><th>ssn_label</th><th>ly_fscldt_id</th><th>lly_fscldt_id</th><th>fscldow</th><th>fscldom</th><th>fscldoq</th><th>fscldoy</th><th>fsclwoy</th><th>fsclmoy</th><th>fsclqoy</th><th>date</th></tr></thead><tbody><tr><td>20180204</td><td>Feb 4, 2018</td><td>201801</td><td>WK 01, 2018</td><td>201801</td><td>Feb, 2018</td><td>20181</td><td>Q1, 2018</td><td>2018</td><td>2018</td><td>SPRG2018</td><td>Spring 2018</td><td>20170205</td><td>20160207</td><td>1</td><td>1</td><td>1</td><td>1</td><td>1</td><td>1</td><td>1</td><td>2018-02-04</td></tr><tr><td>20180205</td><td>Feb 5, 2018</td><td>201801</td><td>WK 01, 2018</td><td>201801</td><td>Feb, 2018</td><td>20181</td><td>Q1, 2018</td><td>2018</td><td>2018</td><td>SPRG2018</td><td>Spring 2018</td><td>20170206</td><td>20160208</td><td>2</td><td>2</td><td>2</td><td>2</td><td>1</td><td>1</td><td>1</td><td>2018-02-05</td></tr><tr><td>20180206</td><td>Feb 6, 2018</td><td>201801</td><td>WK 01, 2018</td><td>201801</td><td>Feb, 2018</td><td>20181</td><td>Q1, 2018</td><td>2018</td><td>2018</td><td>SPRG2018</td><td>Spring 2018</td><td>20170207</td><td>20160209</td><td>3</td><td>3</td><td>3</td><td>3</td><td>1</td><td>1</td><td>1</td><td>2018-02-06</td></tr><tr><td>20180207</td><td>Feb 7, 2018</td><td>201801</td><td>WK 01, 2018</td><td>201801</td><td>Feb, 2018</td><td>20181</td><td>Q1, 2018</td><td>2018</td><td>2018</td><td>SPRG2018</td><td>Spring 2018</td><td>20170208</td><td>20160210</td><td>4</td><td>4</td><td>4</td><td>4</td><td>1</td><td>1</td><td>1</td><td>2018-02-07</td></tr><tr><td>20180208</td><td>Feb 8, 2018</td><td>201801</td><td>WK 01, 2018</td><td>201801</td><td>Feb, 2018</td><td>20181</td><td>Q1, 2018</td><td>2018</td><td>2018</td><td>SPRG2018</td><td>Spring 2018</td><td>20170209</td><td>20160211</td><td>5</td><td>5</td><td>5</td><td>5</td><td>1</td><td>1</td><td>1</td><td>2018-02-08</td></tr><tr><td>20180209</td><td>Feb 9, 2018</td><td>201801</td><td>WK 01, 2018</td><td>201801</td><td>Feb, 2018</td><td>20181</td><td>Q1, 2018</td><td>2018</td><td>2018</td><td>SPRG2018</td><td>Spring 2018</td><td>20170210</td><td>20160212</td><td>6</td><td>6</td><td>6</td><td>6</td><td>1</td><td>1</td><td>1</td><td>2018-02-09</td></tr><tr><td>20180210</td><td>Feb 10, 2018</td><td>201801</td><td>WK 01, 2018</td><td>201801</td><td>Feb, 2018</td><td>20181</td><td>Q1, 2018</td><td>2018</td><td>2018</td><td>SPRG2018</td><td>Spring 2018</td><td>20170211</td><td>20160213</td><td>7</td><td>7</td><td>7</td><td>7</td><td>1</td><td>1</td><td>1</td><td>2018-02-10</td></tr><tr><td>20180211</td><td>Feb 11, 2018</td><td>201802</td><td>WK 02, 2018</td><td>201801</td><td>Feb, 2018</td><td>20181</td><td>Q1, 2018</td><td>2018</td><td>2018</td><td>SPRG2018</td><td>Spring 2018</td><td>20170212</td><td>20160214</td><td>1</td><td>8</td><td>8</td><td>8</td><td>2</td><td>1</td><td>1</td><td>2018-02-11</td></tr><tr><td>20180212</td><td>Feb 12, 2018</td><td>201802</td><td>WK 02, 2018</td><td>201801</td><td>Feb, 2018</td><td>20181</td><td>Q1, 2018</td><td>2018</td><td>2018</td><td>SPRG2018</td><td>Spring 2018</td><td>20170213</td><td>20160215</td><td>2</td><td>9</td><td>9</td><td>9</td><td>2</td><td>1</td><td>1</td><td>2018-02-12</td></tr><tr><td>20180213</td><td>Feb 13, 2018</td><td>201802</td><td>WK 02, 2018</td><td>201801</td><td>Feb, 2018</td><td>20181</td><td>Q1, 2018</td><td>2018</td><td>2018</td><td>SPRG2018</td><td>Spring 2018</td><td>20170214</td><td>20160216</td><td>3</td><td>10</td><td>10</td><td>10</td><td>2</td><td>1</td><td>1</td><td>2018-02-13</td></tr><tr><td>20180214</td><td>Feb 14, 2018</td><td>201802</td><td>WK 02, 2018</td><td>201801</td><td>Feb, 2018</td><td>20181</td><td>Q1, 2018</td><td>2018</td><td>2018</td><td>SPRG2018</td><td>Spring 2018</td><td>20170215</td><td>20160217</td><td>4</td><td>11</td><td>11</td><td>11</td><td>2</td><td>1</td><td>1</td><td>2018-02-14</td></tr><tr><td>20180215</td><td>Feb 15, 2018</td><td>201802</td><td>WK 02, 2018</td><td>201801</td><td>Feb, 2018</td><td>20181</td><td>Q1, 2018</td><td>2018</td><td>2018</td><td>SPRG2018</td><td>Spring 2018</td><td>20170216</td><td>20160218</td><td>5</td><td>12</td><td>12</td><td>12</td><td>2</td><td>1</td><td>1</td><td>2018-02-15</td></tr><tr><td>20180216</td><td>Feb 16, 2018</td><td>201802</td><td>WK 02, 2018</td><td>201801</td><td>Feb, 2018</td><td>20181</td><td>Q1, 2018</td><td>2018</td><td>2018</td><td>SPRG2018</td><td>Spring 2018</td><td>20170217</td><td>20160219</td><td>6</td><td>13</td><td>13</td><td>13</td><td>2</td><td>1</td><td>1</td><td>2018-02-16</td></tr><tr><td>20180217</td><td>Feb 17, 2018</td><td>201802</td><td>WK 02, 2018</td><td>201801</td><td>Feb, 2018</td><td>20181</td><td>Q1, 2018</td><td>2018</td><td>2018</td><td>SPRG2018</td><td>Spring 2018</td><td>20170218</td><td>20160220</td><td>7</td><td>14</td><td>14</td><td>14</td><td>2</td><td>1</td><td>1</td><td>2018-02-17</td></tr><tr><td>20180218</td><td>Feb 18, 2018</td><td>201803</td><td>WK 03, 2018</td><td>201801</td><td>Feb, 2018</td><td>20181</td><td>Q1, 2018</td><td>2018</td><td>2018</td><td>SPRG2018</td><td>Spring 2018</td><td>20170219</td><td>20160221</td><td>1</td><td>15</td><td>15</td><td>15</td><td>3</td><td>1</td><td>1</td><td>2018-02-18</td></tr><tr><td>20180219</td><td>Feb 19, 2018</td><td>201803</td><td>WK 03, 2018</td><td>201801</td><td>Feb, 2018</td><td>20181</td><td>Q1, 2018</td><td>2018</td><td>2018</td><td>SPRG2018</td><td>Spring 2018</td><td>20170220</td><td>20160222</td><td>2</td><td>16</td><td>16</td><td>16</td><td>3</td><td>1</td><td>1</td><td>2018-02-19</td></tr><tr><td>20180220</td><td>Feb 20, 2018</td><td>201803</td><td>WK 03, 2018</td><td>201801</td><td>Feb, 2018</td><td>20181</td><td>Q1, 2018</td><td>2018</td><td>2018</td><td>SPRG2018</td><td>Spring 2018</td><td>20170221</td><td>20160223</td><td>3</td><td>17</td><td>17</td><td>17</td><td>3</td><td>1</td><td>1</td><td>2018-02-20</td></tr><tr><td>20180221</td><td>Feb 21, 2018</td><td>201803</td><td>WK 03, 2018</td><td>201801</td><td>Feb, 2018</td><td>20181</td><td>Q1, 2018</td><td>2018</td><td>2018</td><td>SPRG2018</td><td>Spring 2018</td><td>20170222</td><td>20160224</td><td>4</td><td>18</td><td>18</td><td>18</td><td>3</td><td>1</td><td>1</td><td>2018-02-21</td></tr><tr><td>20180222</td><td>Feb 22, 2018</td><td>201803</td><td>WK 03, 2018</td><td>201801</td><td>Feb, 2018</td><td>20181</td><td>Q1, 2018</td><td>2018</td><td>2018</td><td>SPRG2018</td><td>Spring 2018</td><td>20170223</td><td>20160225</td><td>5</td><td>19</td><td>19</td><td>19</td><td>3</td><td>1</td><td>1</td><td>2018-02-22</td></tr><tr><td>20180223</td><td>Feb 23, 2018</td><td>201803</td><td>WK 03, 2018</td><td>201801</td><td>Feb, 2018</td><td>20181</td><td>Q1, 2018</td><td>2018</td><td>2018</td><td>SPRG2018</td><td>Spring 2018</td><td>20170224</td><td>20160226</td><td>6</td><td>20</td><td>20</td><td>20</td><td>3</td><td>1</td><td>1</td><td>2018-02-23</td></tr></tbody></table></div>"
      ]
     },
     "metadata": {
      "application/vnd.databricks.v1+output": {
       "addedWidgets": {},
       "aggData": [],
       "aggError": "",
       "aggOverflow": false,
       "aggSchema": [],
       "aggSeriesLimitReached": false,
       "aggType": "",
       "arguments": {},
       "columnCustomDisplayInfos": {},
       "data": [
        [
         20180204,
         "Feb 4, 2018",
         201801,
         "WK 01, 2018",
         201801,
         "Feb, 2018",
         20181,
         "Q1, 2018",
         2018,
         2018,
         "SPRG2018",
         "Spring 2018",
         20170205,
         20160207,
         1,
         1,
         1,
         1,
         1,
         1,
         1,
         "2018-02-04"
        ],
        [
         20180205,
         "Feb 5, 2018",
         201801,
         "WK 01, 2018",
         201801,
         "Feb, 2018",
         20181,
         "Q1, 2018",
         2018,
         2018,
         "SPRG2018",
         "Spring 2018",
         20170206,
         20160208,
         2,
         2,
         2,
         2,
         1,
         1,
         1,
         "2018-02-05"
        ],
        [
         20180206,
         "Feb 6, 2018",
         201801,
         "WK 01, 2018",
         201801,
         "Feb, 2018",
         20181,
         "Q1, 2018",
         2018,
         2018,
         "SPRG2018",
         "Spring 2018",
         20170207,
         20160209,
         3,
         3,
         3,
         3,
         1,
         1,
         1,
         "2018-02-06"
        ],
        [
         20180207,
         "Feb 7, 2018",
         201801,
         "WK 01, 2018",
         201801,
         "Feb, 2018",
         20181,
         "Q1, 2018",
         2018,
         2018,
         "SPRG2018",
         "Spring 2018",
         20170208,
         20160210,
         4,
         4,
         4,
         4,
         1,
         1,
         1,
         "2018-02-07"
        ],
        [
         20180208,
         "Feb 8, 2018",
         201801,
         "WK 01, 2018",
         201801,
         "Feb, 2018",
         20181,
         "Q1, 2018",
         2018,
         2018,
         "SPRG2018",
         "Spring 2018",
         20170209,
         20160211,
         5,
         5,
         5,
         5,
         1,
         1,
         1,
         "2018-02-08"
        ],
        [
         20180209,
         "Feb 9, 2018",
         201801,
         "WK 01, 2018",
         201801,
         "Feb, 2018",
         20181,
         "Q1, 2018",
         2018,
         2018,
         "SPRG2018",
         "Spring 2018",
         20170210,
         20160212,
         6,
         6,
         6,
         6,
         1,
         1,
         1,
         "2018-02-09"
        ],
        [
         20180210,
         "Feb 10, 2018",
         201801,
         "WK 01, 2018",
         201801,
         "Feb, 2018",
         20181,
         "Q1, 2018",
         2018,
         2018,
         "SPRG2018",
         "Spring 2018",
         20170211,
         20160213,
         7,
         7,
         7,
         7,
         1,
         1,
         1,
         "2018-02-10"
        ],
        [
         20180211,
         "Feb 11, 2018",
         201802,
         "WK 02, 2018",
         201801,
         "Feb, 2018",
         20181,
         "Q1, 2018",
         2018,
         2018,
         "SPRG2018",
         "Spring 2018",
         20170212,
         20160214,
         1,
         8,
         8,
         8,
         2,
         1,
         1,
         "2018-02-11"
        ],
        [
         20180212,
         "Feb 12, 2018",
         201802,
         "WK 02, 2018",
         201801,
         "Feb, 2018",
         20181,
         "Q1, 2018",
         2018,
         2018,
         "SPRG2018",
         "Spring 2018",
         20170213,
         20160215,
         2,
         9,
         9,
         9,
         2,
         1,
         1,
         "2018-02-12"
        ],
        [
         20180213,
         "Feb 13, 2018",
         201802,
         "WK 02, 2018",
         201801,
         "Feb, 2018",
         20181,
         "Q1, 2018",
         2018,
         2018,
         "SPRG2018",
         "Spring 2018",
         20170214,
         20160216,
         3,
         10,
         10,
         10,
         2,
         1,
         1,
         "2018-02-13"
        ],
        [
         20180214,
         "Feb 14, 2018",
         201802,
         "WK 02, 2018",
         201801,
         "Feb, 2018",
         20181,
         "Q1, 2018",
         2018,
         2018,
         "SPRG2018",
         "Spring 2018",
         20170215,
         20160217,
         4,
         11,
         11,
         11,
         2,
         1,
         1,
         "2018-02-14"
        ],
        [
         20180215,
         "Feb 15, 2018",
         201802,
         "WK 02, 2018",
         201801,
         "Feb, 2018",
         20181,
         "Q1, 2018",
         2018,
         2018,
         "SPRG2018",
         "Spring 2018",
         20170216,
         20160218,
         5,
         12,
         12,
         12,
         2,
         1,
         1,
         "2018-02-15"
        ],
        [
         20180216,
         "Feb 16, 2018",
         201802,
         "WK 02, 2018",
         201801,
         "Feb, 2018",
         20181,
         "Q1, 2018",
         2018,
         2018,
         "SPRG2018",
         "Spring 2018",
         20170217,
         20160219,
         6,
         13,
         13,
         13,
         2,
         1,
         1,
         "2018-02-16"
        ],
        [
         20180217,
         "Feb 17, 2018",
         201802,
         "WK 02, 2018",
         201801,
         "Feb, 2018",
         20181,
         "Q1, 2018",
         2018,
         2018,
         "SPRG2018",
         "Spring 2018",
         20170218,
         20160220,
         7,
         14,
         14,
         14,
         2,
         1,
         1,
         "2018-02-17"
        ],
        [
         20180218,
         "Feb 18, 2018",
         201803,
         "WK 03, 2018",
         201801,
         "Feb, 2018",
         20181,
         "Q1, 2018",
         2018,
         2018,
         "SPRG2018",
         "Spring 2018",
         20170219,
         20160221,
         1,
         15,
         15,
         15,
         3,
         1,
         1,
         "2018-02-18"
        ],
        [
         20180219,
         "Feb 19, 2018",
         201803,
         "WK 03, 2018",
         201801,
         "Feb, 2018",
         20181,
         "Q1, 2018",
         2018,
         2018,
         "SPRG2018",
         "Spring 2018",
         20170220,
         20160222,
         2,
         16,
         16,
         16,
         3,
         1,
         1,
         "2018-02-19"
        ],
        [
         20180220,
         "Feb 20, 2018",
         201803,
         "WK 03, 2018",
         201801,
         "Feb, 2018",
         20181,
         "Q1, 2018",
         2018,
         2018,
         "SPRG2018",
         "Spring 2018",
         20170221,
         20160223,
         3,
         17,
         17,
         17,
         3,
         1,
         1,
         "2018-02-20"
        ],
        [
         20180221,
         "Feb 21, 2018",
         201803,
         "WK 03, 2018",
         201801,
         "Feb, 2018",
         20181,
         "Q1, 2018",
         2018,
         2018,
         "SPRG2018",
         "Spring 2018",
         20170222,
         20160224,
         4,
         18,
         18,
         18,
         3,
         1,
         1,
         "2018-02-21"
        ],
        [
         20180222,
         "Feb 22, 2018",
         201803,
         "WK 03, 2018",
         201801,
         "Feb, 2018",
         20181,
         "Q1, 2018",
         2018,
         2018,
         "SPRG2018",
         "Spring 2018",
         20170223,
         20160225,
         5,
         19,
         19,
         19,
         3,
         1,
         1,
         "2018-02-22"
        ],
        [
         20180223,
         "Feb 23, 2018",
         201803,
         "WK 03, 2018",
         201801,
         "Feb, 2018",
         20181,
         "Q1, 2018",
         2018,
         2018,
         "SPRG2018",
         "Spring 2018",
         20170224,
         20160226,
         6,
         20,
         20,
         20,
         3,
         1,
         1,
         "2018-02-23"
        ]
       ],
       "datasetInfos": [],
       "dbfsResultPath": null,
       "isJsonSchema": true,
       "metadata": {
        "createTempViewForImplicitDf": true,
        "dataframeName": "_sqldf",
        "executionCount": 3
       },
       "overflow": false,
       "plotOptions": {
        "customPlotOptions": {},
        "displayType": "table",
        "pivotAggregation": null,
        "pivotColumns": null,
        "xColumns": null,
        "yColumns": null
       },
       "removedWidgets": [],
       "schema": [
        {
         "metadata": "{}",
         "name": "fscldt_id",
         "type": "\"integer\""
        },
        {
         "metadata": "{}",
         "name": "fscldt_label",
         "type": "\"string\""
        },
        {
         "metadata": "{}",
         "name": "fsclwk_id",
         "type": "\"integer\""
        },
        {
         "metadata": "{}",
         "name": "fsclwk_label",
         "type": "\"string\""
        },
        {
         "metadata": "{}",
         "name": "fsclmth_id",
         "type": "\"integer\""
        },
        {
         "metadata": "{}",
         "name": "fsclmth_label",
         "type": "\"string\""
        },
        {
         "metadata": "{}",
         "name": "fsclqrtr_id",
         "type": "\"integer\""
        },
        {
         "metadata": "{}",
         "name": "fsclqrtr_label",
         "type": "\"string\""
        },
        {
         "metadata": "{}",
         "name": "fsclyr_id",
         "type": "\"integer\""
        },
        {
         "metadata": "{}",
         "name": "fsclyr_label",
         "type": "\"integer\""
        },
        {
         "metadata": "{}",
         "name": "ssn_id",
         "type": "\"string\""
        },
        {
         "metadata": "{}",
         "name": "ssn_label",
         "type": "\"string\""
        },
        {
         "metadata": "{}",
         "name": "ly_fscldt_id",
         "type": "\"integer\""
        },
        {
         "metadata": "{}",
         "name": "lly_fscldt_id",
         "type": "\"integer\""
        },
        {
         "metadata": "{}",
         "name": "fscldow",
         "type": "\"integer\""
        },
        {
         "metadata": "{}",
         "name": "fscldom",
         "type": "\"integer\""
        },
        {
         "metadata": "{}",
         "name": "fscldoq",
         "type": "\"integer\""
        },
        {
         "metadata": "{}",
         "name": "fscldoy",
         "type": "\"integer\""
        },
        {
         "metadata": "{}",
         "name": "fsclwoy",
         "type": "\"integer\""
        },
        {
         "metadata": "{}",
         "name": "fsclmoy",
         "type": "\"integer\""
        },
        {
         "metadata": "{}",
         "name": "fsclqoy",
         "type": "\"integer\""
        },
        {
         "metadata": "{\"__detected_date_formats\":\"yyyy-M-d\"}",
         "name": "date",
         "type": "\"date\""
        }
       ],
       "type": "table"
      }
     },
     "output_type": "display_data"
    }
   ],
   "source": [
    "%sql\n",
    "select * from raw_data.dim_date limit 20\n"
   ]
  },
  {
   "cell_type": "code",
   "execution_count": 0,
   "metadata": {
    "application/vnd.databricks.v1+cell": {
     "cellMetadata": {},
     "inputWidgets": {},
     "nuid": "f2d94800-4693-4458-bba5-4223cc5bb579",
     "showTitle": false,
     "tableResultSettingsMap": {},
     "title": ""
    }
   },
   "outputs": [],
   "source": []
  },
  {
   "cell_type": "code",
   "execution_count": 0,
   "metadata": {
    "application/vnd.databricks.v1+cell": {
     "cellMetadata": {},
     "inputWidgets": {},
     "nuid": "5bad2ec8-81ab-45a8-8b2f-c228f2957ad4",
     "showTitle": false,
     "tableResultSettingsMap": {},
     "title": ""
    }
   },
   "outputs": [],
   "source": []
  }
 ],
 "metadata": {
  "application/vnd.databricks.v1+notebook": {
   "computePreferences": null,
   "dashboards": [],
   "environmentMetadata": {
    "base_environment": "",
    "environment_version": "2"
   },
   "language": "python",
   "notebookMetadata": {
    "mostRecentlyExecutedCommandWithImplicitDF": {
     "commandId": 376286064576979,
     "dataframes": [
      "_sqldf"
     ]
    },
    "pythonIndentUnit": 4
   },
   "notebookName": "EDA gsynergy raw",
   "widgets": {}
  },
  "language_info": {
   "name": "python"
  }
 },
 "nbformat": 4,
 "nbformat_minor": 0
}